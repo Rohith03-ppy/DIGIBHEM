{
  "cells": [
    {
      "cell_type": "markdown",
      "metadata": {
        "id": "view-in-github",
        "colab_type": "text"
      },
      "source": [
        "<a href=\"https://colab.research.google.com/github/Rohith03-ppy/DIGIBHEM/blob/main/CSIT555_DatabaseProjectTemplate.ipynb\" target=\"_parent\"><img src=\"https://colab.research.google.com/assets/colab-badge.svg\" alt=\"Open In Colab\"/></a>"
      ]
    },
    {
      "cell_type": "code",
      "execution_count": 1,
      "metadata": {
        "id": "crMaGpgS-1QU"
      },
      "outputs": [],
      "source": [
        "# ******************************************************************************************\n",
        "# CSIT555_DatabaseProject.ipynb\n",
        "# This program allows a user to access and modify a course registration database from the\n",
        "# role of a student.\n",
        "# ******************************************************************************************\n"
      ]
    },
    {
      "cell_type": "code",
      "execution_count": 2,
      "metadata": {
        "id": "JxI2bmTy-Q7_"
      },
      "outputs": [],
      "source": [
        "#Let's connect to a database **project.db** using:\n",
        "%load_ext sql\n",
        "#%reload_ext sql\n",
        "%sql sqlite:///DatabaseProject.db"
      ]
    },
    {
      "cell_type": "code",
      "execution_count": 11,
      "metadata": {
        "id": "Rq_ODWEo-bMg"
      },
      "outputs": [],
      "source": [
        "\n",
        "import sqlite3\n",
        "from sqlite3 import Error\n",
        "\n",
        "# Creates database connection.\n",
        "def create_connection(db_file):\n",
        "    # conn = None\n",
        "    try:\n",
        "        conn = sqlite3.connect(db_file)\n",
        "        print(f\"Database '{db_file}' created successfully!\")\n",
        "        return conn\n",
        "    except Error as e:\n",
        "        print(e)\n",
        "    return None\n",
        "\n",
        "# Creates Students, Enrolled, and Courses tables in the database, if they don't exist already.\n",
        "def create_tables(conn):\n",
        "    if conn is not None:\n",
        "        sql_create_students_table = \"\"\"CREATE TABLE IF NOT EXISTS Students (\n",
        "                                       sid integer PRIMARY KEY,\n",
        "                                       sname text NOT Null,\n",
        "                                       age integer);\"\"\"\n",
        "        sql_create_enrolled_table = \"\"\"CREATE TABLE IF NOT EXISTS Enrolled (\n",
        "                                       sid integer,\n",
        "                                       cid integer,\n",
        "                                       grade text\n",
        "                                       );\"\"\"\n",
        "        sql_create_courses_table = \"\"\" CREATE TABLE IF NOT EXISTS Courses (\n",
        "                                       cid integer PRIMARY KEY,\n",
        "                                       cname text,\n",
        "                                       credits integer);\"\"\"\n",
        "        try:\n",
        "            c=conn.cursor()\n",
        "            c.execute(sql_create_students_table)\n",
        "            c.execute(sql_create_enrolled_table)\n",
        "            c.execute(sql_create_courses_table)\n",
        "        except Error as e:\n",
        "            print(e)\n",
        "    else:\n",
        "        print(\"Can not create the database connection.\")\n",
        "\n",
        "# Creates a new student record and adds it to the Student table.\n",
        "def create_student(conn, sid, sname, age):\n",
        "    sql = \"INSERT INTO Students(sid, sname, age) VALUES(?,?,?)\"\n",
        "    values = (sid, sname, age)\n",
        "    cur = conn.cursor()\n",
        "    cur.execute(sql, values)\n",
        "    conn.commit()\n",
        "\n",
        "# Creates a new enrollment record and adds it to the Enrolled table.\n",
        "def create_enrollment(conn, sid, cid, grade):\n",
        "    sql = \"INSERT INTO Enrolled(sid, cid, grade) VALUES(?,?,?)\"\n",
        "    values = (sid, cid, grade)\n",
        "    cur = conn.cursor()\n",
        "    cur.execute(sql, values)\n",
        "    conn.commit()\n",
        "\n",
        "# Creates a new Course record and adds it to the Course table.\n",
        "def create_course(conn, cid, cname, credits):\n",
        "    sql = \"INSERT INTO Courses(cid, cname, credits) VALUES(?,?,?)\"\n",
        "    values = (cid, cname, credits)\n",
        "    cur = conn.cursor()\n",
        "    cur.execute(sql, values)\n",
        "    conn.commit()\n",
        "\n",
        "\n",
        "# Shows a list of functions the user can execute in the command line interface.\n",
        "def show_help_prompt():\n",
        "    print(\"Help:\")\n",
        "    print(\"L: List all available courses\",\n",
        "          \"\\nE: Enroll yourself in a course\",\n",
        "          \"\\nW: Withdraw yourself from a course\",\n",
        "          \"\\nS: Search for a course by name\",\n",
        "          \"\\nM: List your current enrollments\",\n",
        "          \"\\nH: List executable functions\",\n",
        "          \"\\nX: Exit application\")\n",
        "\n",
        "\n",
        "# Begins the command line user interface.\n",
        "def start_cmd_interface(conn):\n",
        "    # Print greeting message.\n",
        "    print(\"Welcome to MSU Course Registration System!\")\n",
        "\n",
        "    # Prompt user to sign in by sid. Reprompt user if sid does not meet constraints.\n",
        "    while(True):\n",
        "        try:\n",
        "            sid = int(input(\"Enter your student id (or enter -1 to sign up): \"))\n",
        "            if(sid == -1):\n",
        "                create_new_student(conn)\n",
        "            elif(check_if_sid_exists(conn, sid)):\n",
        "                break\n",
        "            else:\n",
        "                print(\"Student id does not exist in the database.\")\n",
        "        except:\n",
        "            print(\"Student id must be an integer.\")\n",
        "\n",
        "    # Print greeting message again.\n",
        "    print(\"Welcome back\", get_student_name(conn, sid), \"\\b!\")\n",
        "\n",
        "    # Prompt user to type a command and call the appropriate function in response.\n",
        "    while(True):\n",
        "        userInput = input(\"Enter a command: \")\n",
        "        if(userInput == 'L'):\n",
        "            select_all_courses(conn)\n",
        "        elif(userInput == 'E'):\n",
        "            enroll_in_course(conn, sid)\n",
        "        elif(userInput == 'W'):\n",
        "            withdraw_from_course(conn, sid)\n",
        "        elif(userInput == 'S'):\n",
        "            search_for_course(conn)\n",
        "        elif(userInput == 'M'):\n",
        "            view_my_classes(conn, sid)\n",
        "        elif(userInput == 'H'):\n",
        "            show_help_prompt()\n",
        "        elif(userInput == 'X'):\n",
        "            print(\"Thank you for using MSU Course Registration System!\")\n",
        "            break\n",
        "        else:\n",
        "            print(\"Not a valid command (enter H for help).\")\n",
        "\n"
      ]
    },
    {
      "cell_type": "code",
      "execution_count": 4,
      "metadata": {
        "id": "uDUy8hjY-yIQ"
      },
      "outputs": [],
      "source": [
        "# Deletes an enrollment record from the Enrolled table by sid and cid.\n",
        "# Method\n",
        "\n",
        "\n",
        "# Returns a student's name given an sid.\n",
        "# Method\n",
        "\n",
        "# Queries the Students table to check if a given sid exists.\n",
        "# Method\n",
        "\n",
        "# Queries the Courses table to check if a given cid exists.\n",
        "# Method\n",
        "\n",
        "# Queries the Enrolled table to check if an enrollment record exists for a given sid and cid.\n",
        "# Method\n",
        "\n",
        "# Queries the Enrolled and Course tables to check if a student with a given sid is enrolled in every course.\n",
        "# Method\n",
        "\n",
        "# Queries the Enrolled table to check if a student with a given sid is enrolled in at least one course.\n",
        "# Method\n",
        "\n",
        "\n",
        "\n",
        "# Queries the Courses table to check if it is empty.\n",
        "# Method\n",
        "\n",
        "\n",
        "\n",
        "# Prompts the user to enter their information to create a new student record in the Students table.\n",
        "# Method\n",
        "\n",
        "# Prints all course records in the Courses table.\n",
        "# Method\n",
        "\n",
        "# Enrolls a student in a course.\n",
        "# Method\n",
        "\n",
        "# Withdraws a student from a course.\n",
        "# Method\n",
        "\n",
        "# Prompts the user to enter a substring to search courses with names similar to the substring.\n",
        "# Method\n",
        "\n",
        "# Prints all courses a student is enrolled in.\n",
        "# Method"
      ]
    },
    {
      "cell_type": "code",
      "execution_count": 12,
      "metadata": {
        "id": "-p97Vg3DArPt",
        "colab": {
          "base_uri": "https://localhost:8080/"
        },
        "outputId": "0d5fa45c-a937-4863-cb4a-2c54ab69618f"
      },
      "outputs": [
        {
          "output_type": "stream",
          "name": "stdout",
          "text": [
            "Database 'DatabaseProject.db' created successfully!\n"
          ]
        }
      ],
      "source": [
        "# Main method.\n",
        "def main():\n",
        "\n",
        "    # Create connection to database.\n",
        "    database = r\"DatabaseProject.db\"\n",
        "    conn = create_connection(database)\n",
        "\n",
        "    # # Create Students, Enrolled, and Courses tables, if they don't already exist.\n",
        "    # create_tables(conn)\n",
        "\n",
        "    # # Begin command line interface.\n",
        "    # start_cmd_interface(conn)\n",
        "\n",
        "    # Close connection to database.\n",
        "    conn.close()\n",
        "\n",
        "if __name__ == '__main__':\n",
        "     main()"
      ]
    },
    {
      "cell_type": "code",
      "source": [
        "import os\n",
        "\n",
        "# Check if the file exists in current working directory\n",
        "if os.path.exists(\"DatabaseProject.db\"):\n",
        "    print(\"✅ Found: DatabaseProject.db\")\n",
        "    print(\"📁 Full path:\", os.path.abspath(\"DatabaseProject.db\"))\n",
        "else:\n",
        "    print(\"❌ DatabaseProject.db not found\")\n"
      ],
      "metadata": {
        "colab": {
          "base_uri": "https://localhost:8080/"
        },
        "id": "HdKODsmRIlxF",
        "outputId": "577064f9-2b3d-4d24-f272-0d0312f452be"
      },
      "execution_count": 6,
      "outputs": [
        {
          "output_type": "stream",
          "name": "stdout",
          "text": [
            "✅ Found: DatabaseProject.db\n",
            "📁 Full path: /content/DatabaseProject.db\n"
          ]
        }
      ]
    },
    {
      "cell_type": "code",
      "source": [
        "from google.colab import files\n",
        "files.download(\"/content/DatabaseProject.db\")\n"
      ],
      "metadata": {
        "colab": {
          "base_uri": "https://localhost:8080/",
          "height": 17
        },
        "id": "J2fTRH5qIsyl",
        "outputId": "c2c7920c-9e34-4214-9b50-86f166d326e7"
      },
      "execution_count": 7,
      "outputs": [
        {
          "output_type": "display_data",
          "data": {
            "text/plain": [
              "<IPython.core.display.Javascript object>"
            ],
            "application/javascript": [
              "\n",
              "    async function download(id, filename, size) {\n",
              "      if (!google.colab.kernel.accessAllowed) {\n",
              "        return;\n",
              "      }\n",
              "      const div = document.createElement('div');\n",
              "      const label = document.createElement('label');\n",
              "      label.textContent = `Downloading \"${filename}\": `;\n",
              "      div.appendChild(label);\n",
              "      const progress = document.createElement('progress');\n",
              "      progress.max = size;\n",
              "      div.appendChild(progress);\n",
              "      document.body.appendChild(div);\n",
              "\n",
              "      const buffers = [];\n",
              "      let downloaded = 0;\n",
              "\n",
              "      const channel = await google.colab.kernel.comms.open(id);\n",
              "      // Send a message to notify the kernel that we're ready.\n",
              "      channel.send({})\n",
              "\n",
              "      for await (const message of channel.messages) {\n",
              "        // Send a message to notify the kernel that we're ready.\n",
              "        channel.send({})\n",
              "        if (message.buffers) {\n",
              "          for (const buffer of message.buffers) {\n",
              "            buffers.push(buffer);\n",
              "            downloaded += buffer.byteLength;\n",
              "            progress.value = downloaded;\n",
              "          }\n",
              "        }\n",
              "      }\n",
              "      const blob = new Blob(buffers, {type: 'application/binary'});\n",
              "      const a = document.createElement('a');\n",
              "      a.href = window.URL.createObjectURL(blob);\n",
              "      a.download = filename;\n",
              "      div.appendChild(a);\n",
              "      a.click();\n",
              "      div.remove();\n",
              "    }\n",
              "  "
            ]
          },
          "metadata": {}
        },
        {
          "output_type": "display_data",
          "data": {
            "text/plain": [
              "<IPython.core.display.Javascript object>"
            ],
            "application/javascript": [
              "download(\"download_18b8e38a-e0fd-4ba2-a3fe-9511a31e1c3e\", \"DatabaseProject.db\", 16384)"
            ]
          },
          "metadata": {}
        }
      ]
    },
    {
      "cell_type": "code",
      "source": [
        "from google.colab import drive\n",
        "drive.mount('/content/drive')\n"
      ],
      "metadata": {
        "colab": {
          "base_uri": "https://localhost:8080/"
        },
        "id": "GZfgebJoJbON",
        "outputId": "41f6de29-b9ab-4548-8a03-d49ebc9cd81f"
      },
      "execution_count": 8,
      "outputs": [
        {
          "output_type": "stream",
          "name": "stdout",
          "text": [
            "Mounted at /content/drive\n"
          ]
        }
      ]
    },
    {
      "cell_type": "code",
      "source": [
        "!mkdir -p /content/drive/MyDrive/DBs\n",
        "!cp /content/DatabaseProject.db /content/drive/MyDrive/DBs/\n"
      ],
      "metadata": {
        "id": "YGtcGnDcJoQ_"
      },
      "execution_count": 9,
      "outputs": []
    },
    {
      "cell_type": "code",
      "source": [
        "import sqlite3\n",
        "from sqlite3 import Error\n",
        "from google.colab import drive\n",
        "import os\n",
        "\n",
        "def setup_database():\n",
        "    # Step 1: Mount Google Drive\n",
        "    drive.mount('/content/drive')\n",
        "\n",
        "    # Step 2: Define the path\n",
        "    db_folder = \"/content/drive/MyDrive/DBs\"\n",
        "    db_file = \"DatabaseProject.db\"\n",
        "    db_path = os.path.join(db_folder, db_file)\n",
        "\n",
        "    # Step 3: Create folder if not exists\n",
        "    if not os.path.exists(db_folder):\n",
        "        os.makedirs(db_folder)\n",
        "        print(f\"Created folder: {db_folder}\")\n",
        "\n",
        "    # Step 4: Create a connection (will create DB if it doesn't exist)\n",
        "    try:\n",
        "        conn = sqlite3.connect(db_path)\n",
        "        print(f\"✅ Connected to database: {db_path}\")\n",
        "        return conn\n",
        "    except Error as e:\n",
        "        print(f\"❌ Error connecting to database: {e}\")\n",
        "        return None\n"
      ],
      "metadata": {
        "id": "8EW4aZXKKLR2"
      },
      "execution_count": 10,
      "outputs": []
    }
  ],
  "metadata": {
    "colab": {
      "provenance": [],
      "toc_visible": true,
      "include_colab_link": true
    },
    "kernelspec": {
      "display_name": "Python 3",
      "name": "python3"
    },
    "language_info": {
      "name": "python"
    }
  },
  "nbformat": 4,
  "nbformat_minor": 0
}